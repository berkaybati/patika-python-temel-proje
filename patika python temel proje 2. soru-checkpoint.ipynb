{
 "cells": [
  {
   "cell_type": "code",
   "execution_count": 1,
   "id": "821040f4",
   "metadata": {},
   "outputs": [],
   "source": [
    "l = [[12,23,34],[43,32,21],[45,56,67]]"
   ]
  },
  {
   "cell_type": "code",
   "execution_count": 2,
   "id": "cd12f163",
   "metadata": {},
   "outputs": [],
   "source": [
    "l.reverse()"
   ]
  },
  {
   "cell_type": "code",
   "execution_count": 3,
   "id": "4431f024",
   "metadata": {},
   "outputs": [
    {
     "data": {
      "text/plain": [
       "[[45, 56, 67], [43, 32, 21], [12, 23, 34]]"
      ]
     },
     "execution_count": 3,
     "metadata": {},
     "output_type": "execute_result"
    }
   ],
   "source": [
    "l"
   ]
  },
  {
   "cell_type": "code",
   "execution_count": null,
   "id": "82397e01",
   "metadata": {},
   "outputs": [],
   "source": []
  }
 ],
 "metadata": {
  "kernelspec": {
   "display_name": "Python 3 (ipykernel)",
   "language": "python",
   "name": "python3"
  },
  "language_info": {
   "codemirror_mode": {
    "name": "ipython",
    "version": 3
   },
   "file_extension": ".py",
   "mimetype": "text/x-python",
   "name": "python",
   "nbconvert_exporter": "python",
   "pygments_lexer": "ipython3",
   "version": "3.10.4"
  }
 },
 "nbformat": 4,
 "nbformat_minor": 5
}
