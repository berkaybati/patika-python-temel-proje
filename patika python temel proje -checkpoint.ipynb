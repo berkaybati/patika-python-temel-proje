{
 "cells": [
  {
   "cell_type": "code",
   "execution_count": 1,
   "id": "c6de95f2",
   "metadata": {},
   "outputs": [],
   "source": [
    "m=[[20,21,22],[19,18,17],[23,24,25]]"
   ]
  },
  {
   "cell_type": "code",
   "execution_count": 2,
   "id": "cda08715",
   "metadata": {},
   "outputs": [
    {
     "data": {
      "text/plain": [
       "[[20, 21, 22], [19, 18, 17], [23, 24, 25]]"
      ]
     },
     "execution_count": 2,
     "metadata": {},
     "output_type": "execute_result"
    }
   ],
   "source": [
    "m"
   ]
  },
  {
   "cell_type": "code",
   "execution_count": 3,
   "id": "0ce609e9",
   "metadata": {},
   "outputs": [],
   "source": [
    "flatten_m = [e for l in m for e in l]"
   ]
  },
  {
   "cell_type": "code",
   "execution_count": 4,
   "id": "c8d80a55",
   "metadata": {},
   "outputs": [
    {
     "data": {
      "text/plain": [
       "[20, 21, 22, 19, 18, 17, 23, 24, 25]"
      ]
     },
     "execution_count": 4,
     "metadata": {},
     "output_type": "execute_result"
    }
   ],
   "source": [
    "flatten_m"
   ]
  }
 ],
 "metadata": {
  "kernelspec": {
   "display_name": "Python 3 (ipykernel)",
   "language": "python",
   "name": "python3"
  },
  "language_info": {
   "codemirror_mode": {
    "name": "ipython",
    "version": 3
   },
   "file_extension": ".py",
   "mimetype": "text/x-python",
   "name": "python",
   "nbconvert_exporter": "python",
   "pygments_lexer": "ipython3",
   "version": "3.10.4"
  }
 },
 "nbformat": 4,
 "nbformat_minor": 5
}
